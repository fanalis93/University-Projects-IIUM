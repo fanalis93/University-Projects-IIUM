{
  "nbformat": 4,
  "nbformat_minor": 0,
  "metadata": {
    "colab": {
      "name": "Text Summarization Using NLP.ipynb",
      "provenance": [],
      "collapsed_sections": []
    },
    "kernelspec": {
      "name": "python3",
      "display_name": "Python 3"
    },
    "accelerator": "GPU"
  },
  "cells": [
    {
      "cell_type": "code",
      "metadata": {
        "id": "V1wJlg-m22H6",
        "colab": {
          "base_uri": "https://localhost:8080/"
        },
        "outputId": "d5f7ee21-2fb1-4e08-8948-9667cc323a2f"
      },
      "source": [
        "!pip install rouge"
      ],
      "execution_count": 11,
      "outputs": [
        {
          "output_type": "stream",
          "text": [
            "Requirement already satisfied: rouge in /usr/local/lib/python3.6/dist-packages (1.0.0)\n",
            "Requirement already satisfied: six in /usr/local/lib/python3.6/dist-packages (from rouge) (1.15.0)\n"
          ],
          "name": "stdout"
        }
      ]
    },
    {
      "cell_type": "code",
      "metadata": {
        "colab": {
          "base_uri": "https://localhost:8080/"
        },
        "id": "F9G2bPtVAdFL",
        "outputId": "8e8292c2-5d40-43b7-9f16-a11df6a7ad14"
      },
      "source": [
        "from google.colab import drive\n",
        "drive.mount('/content/drive')"
      ],
      "execution_count": 12,
      "outputs": [
        {
          "output_type": "stream",
          "text": [
            "Drive already mounted at /content/drive; to attempt to forcibly remount, call drive.mount(\"/content/drive\", force_remount=True).\n"
          ],
          "name": "stdout"
        }
      ]
    },
    {
      "cell_type": "code",
      "metadata": {
        "id": "wEqWgtIQiaP0"
      },
      "source": [
        "#importing all necessary libraries\n",
        "from collections import Counter\n",
        "from sklearn.feature_extraction.text import TfidfVectorizer\n",
        "from nltk.corpus import reuters\n",
        "from nltk.stem import PorterStemmer\n",
        "from nltk.corpus import stopwords\n",
        "import nltk.data\n",
        "import math\n",
        "import re\n",
        "import nltk\n",
        "import numpy as np\n",
        "import pandas as pd\n",
        "from nltk.translate.bleu_score import sentence_bleu\n",
        "from rouge import Rouge \n",
        "import seaborn as sns\n",
        "import matplotlib.pyplot as plt\n",
        "import string\n",
        "nltk.download('all')"
      ],
      "execution_count": null,
      "outputs": []
    },
    {
      "cell_type": "code",
      "metadata": {
        "id": "qJLZctTCkcSh"
      },
      "source": [
        "summary_threshold = 5  # number of sentences in final summary\n",
        "stop_words = stopwords.words('english') #getting all the stopwords\n",
        "stemmer = PorterStemmer()  #using PorterStemmer for stemming purposes"
      ],
      "execution_count": 14,
      "outputs": []
    },
    {
      "cell_type": "code",
      "metadata": {
        "id": "BKLzFRRIlXMY"
      },
      "source": [
        "class Summarizer():\n",
        "    #taking in articles and extracting the headline and body to place them in a list\n",
        "    def __init__(self, article): #constructor\n",
        "      self._articles = []\n",
        "      for doc in article:\n",
        "            with open(doc) as f:\n",
        "                headline = f.readline() #first line of article is the headline\n",
        "                url = f.readline() #second line of article is the url\n",
        "                body = f.read().replace('\\n', ' ') #read the remaining of the article and replace the empty lines with a whitespace\n",
        "                #if headline and body is not empty, then we assign the values into 'articles' list\n",
        "                if not self.valid_input(headline, body):\n",
        "                    self._articles.append((None, None))\n",
        "                    continue\n",
        "                self._articles.append((headline, body))\n",
        " \n",
        "    #check if headline and body has any text or not\n",
        "    def valid_input(self, headline, article_text):\n",
        "        return headline != '' and article_text != ''\n",
        "\n",
        "    #perform tokenization and stemming (using PorterStemmer)  \n",
        "    def tokenize_and_stem(self, text):\n",
        "        tokens = [word for sent in nltk.sent_tokenize(text) for word in nltk.word_tokenize(sent)]\n",
        "        filtered = []\n",
        "        #filter out numeric tokens, raw punctuation, etc.\n",
        "        for token in tokens:\n",
        "            if re.search('[a-zA-Z]', token):\n",
        "                filtered.append(token)\n",
        "        stems = [stemmer.stem(t) for t in filtered]\n",
        "        return stems\n",
        "\n",
        "    #building tf_idf score in a matrix for each word in the Reuters corpus\n",
        "    def build_TFIDF_model(self):\n",
        "        token_dict = {}\n",
        "        #getting the name of the article\n",
        "        for article in reuters.fileids():\n",
        "            token_dict[article] = reuters.raw(article) \n",
        "        # Use TF-IDF to determine frequency of each word in our article, relative to the word frequency distributions in corpus of 10.8k Reuters news articles.\n",
        "        self._tfidf = TfidfVectorizer(tokenizer=self.tokenize_and_stem, stop_words='english', decode_error='ignore')\n",
        "        tdm = self._tfidf.fit_transform(token_dict.values())\n",
        "\n",
        "    #extracting each sentence from the article\n",
        "    def split_into_sentences(self, text):\n",
        "        #identify where each sentence ends\n",
        "        tok = nltk.data.load('tokenizers/punkt/english.pickle')\n",
        "        sentences = tok.tokenize(self.remove_smart_quotes(text))\n",
        "        #consider sentences with a length of more than 10\n",
        "        sentences = [sent.replace('\\n', '') for sent in sentences if len(sent) > 10]\n",
        "        return sentences\n",
        "\n",
        "    #function for generating the summary\n",
        "    def generate_summaries(self):\n",
        "        #Identifying the number of sentences\n",
        "        total_num_sentences = 0\n",
        "        for article in self._articles:\n",
        "            total_num_sentences += len(self.split_into_sentences(article[1]))\n",
        "        \n",
        "        #If article is shorter than the desired threshold, return the original articles\n",
        "        if total_num_sentences <= summary_threshold:\n",
        "            return [x[1] for x in self._articles]\n",
        "\n",
        "        self.build_TFIDF_model()  #build tf-idf score matrix from Reuters corpus\n",
        "        self._scores = Counter()\n",
        "        for article in self._articles:\n",
        "            self.score(article)\n",
        "        highest_scoring = self._scores.most_common(summary_threshold)\n",
        "\n",
        "        # Appending highest scoring \"representative\" sentences, returns as a single summary paragraph and save to text file\n",
        "        with open(\"Summary.txt\", \"w\") as fwrite:\n",
        "          fwrite.write(\"Headline: \\n\")\n",
        "          for article in self._articles:\n",
        "            fwrite.write(article[0])\n",
        "          fwrite.write(\"\\nSummary: \\n\")\n",
        "          fwrite.write(' '.join([sent[0] for sent in highest_scoring])) \n",
        "        return ' '.join([sent[0] for sent in highest_scoring])\n",
        "    \n",
        "    #remove smart quotes\n",
        "    def remove_smart_quotes(self, text):\n",
        "        return text.replace(u\"\\u201c\",\"\").replace(u\"\\u201d\", \"\")\n",
        "\n",
        "    #this function is to assign the sentences in the summary based on its relevance to headline, length, sentence position, word frequencies\n",
        "    def score(self, article):\n",
        "        headline = article[0]\n",
        "        sentences = self.split_into_sentences(article[1])\n",
        "        frequency_scores = self.frequency_scores(article[1])\n",
        "        for i, s in enumerate(sentences):\n",
        "            headline_score = self.headline_score(headline, s) * 1.5\n",
        "            length_score = self.length_score(self.get_tokens(s)) * 1.0\n",
        "            position_score = self.position_score(float(i+1), len(sentences)) * 1.0\n",
        "            frequency_score = frequency_scores[i] * 4\n",
        "            score = (headline_score + frequency_score + length_score + position_score) / 4.0\n",
        "            self._scores[s] = score\n",
        "\n",
        "    #in this function sentences are scored as the sum of their TF-IDF word frequencies.    \n",
        "    def frequency_scores(self, article_text):\n",
        "        # Add our document into the model so we can retrieve scores\n",
        "        response = self._tfidf.transform([article_text])\n",
        "        feature_names = self._tfidf.get_feature_names() # these are just stemmed words\n",
        "        word_prob = {}  # TF-IDF individual word probabilities\n",
        "        for col in response.nonzero()[1]:\n",
        "            word_prob[feature_names[col]] = response[0, col]\n",
        "\n",
        "        #taking each sentence score based on its word probability\n",
        "        sent_scores = []\n",
        "        for sentence in self.split_into_sentences(article_text):\n",
        "            score = 0\n",
        "            sent_tokens = self.tokenize_and_stem(sentence)\n",
        "            for token in (t for t in sent_tokens if t in word_prob):\n",
        "                score += word_prob[token]\n",
        "\n",
        "            # Normalize score by length of sentence, since we later factor in sentence length as a feature\n",
        "            sent_scores.append(score / len(sent_tokens))\n",
        "        return sent_scores\n",
        "\n",
        "    #this function gives sentence a score between 0 to 1 based on percentage of words common to the headline and the article\n",
        "    def headline_score(self, headline, sentence):\n",
        "        title_stems = [stemmer.stem(w) for w in headline if w not in stop_words]\n",
        "        sentence_stems = [stemmer.stem(w) for w in sentence if w not in stop_words]\n",
        "        count = 0.0\n",
        "        for word in sentence_stems:\n",
        "            if word in title_stems:\n",
        "                count += 1.0\n",
        "        score = count / len(title_stems)\n",
        "        return score\n",
        "  \n",
        "    #this function gives sentence score between (0,1) based on how close sentence's length is to the ideal length. \n",
        "    def length_score(self, sentence):\n",
        "        len_diff = math.fabs(20 - len(sentence))\n",
        "        return len_diff/20\n",
        "      \n",
        "      \n",
        "    #split each sentences into tokens\n",
        "    def get_tokens(self,text):\n",
        "      lowers = text.lower()\n",
        "      no_punctuation = lowers.translate(string.punctuation)\n",
        "      tokens = nltk.word_tokenize(no_punctuation)\n",
        "      return tokens\n",
        "\n",
        "    #this function gives a value between (0,1), corresponding to sentence's position in the article.\n",
        "    #Assuming that sentences at the very beginning and end of the article have a higher weight. \n",
        "    def position_score(self, i, size):\n",
        "        sent_position = i / size\n",
        "        if 0 < sent_position <= 0.1:\n",
        "            return 0.17\n",
        "        elif 0.1 < sent_position <= 0.2:\n",
        "            return 0.23\n",
        "        elif 0.2 < sent_position <= 0.3:\n",
        "            return 0.14\n",
        "        elif 0.3 < sent_position <= 0.4:\n",
        "            return 0.08\n",
        "        elif 0.4 < sent_position <= 0.5:\n",
        "            return 0.05\n",
        "        elif 0.5 < sent_position <= 0.6:\n",
        "            return 0.04\n",
        "        elif 0.6 < sent_position <= 0.7:\n",
        "            return 0.06\n",
        "        elif 0.7 < sent_position <= 0.8:\n",
        "            return 0.04\n",
        "        elif 0.8 < sent_position <= 0.9:\n",
        "            return 0.04\n",
        "        elif 0.9 < sent_position <= 1.0:\n",
        "            return 0.15\n",
        "        else:\n",
        "            return 0  "
      ],
      "execution_count": 15,
      "outputs": []
    },
    {
      "cell_type": "code",
      "metadata": {
        "id": "B9IBeKvBuheu",
        "colab": {
          "base_uri": "https://localhost:8080/"
        },
        "outputId": "575e86d2-5374-45c7-ccf4-058fc6268ed0"
      },
      "source": [
        "import os\n",
        "os.chdir('/content/drive/MyDrive/Sem 6/NLP Project/')\n",
        "article = [\"article1.txt\"] #pushing article into a list\n",
        "summarized_article = Summarizer(article) #Passing the article into the 'Summarizer' class\n",
        "s = summarized_article.generate_summaries() #Print the summary\n",
        "print(s)"
      ],
      "execution_count": 16,
      "outputs": [
        {
          "output_type": "stream",
          "text": [
            "/usr/local/lib/python3.6/dist-packages/sklearn/feature_extraction/text.py:385: UserWarning: Your stop_words may be inconsistent with your preprocessing. Tokenizing the stop words generated tokens ['abov', 'afterward', 'alon', 'alreadi', 'alway', 'ani', 'anoth', 'anyon', 'anyth', 'anywher', 'becam', 'becaus', 'becom', 'befor', 'besid', 'cri', 'describ', 'dure', 'els', 'elsewher', 'empti', 'everi', 'everyon', 'everyth', 'everywher', 'fifti', 'formerli', 'forti', 'ha', 'henc', 'hereaft', 'herebi', 'hi', 'howev', 'hundr', 'inde', 'latterli', 'mani', 'meanwhil', 'moreov', 'mostli', 'nobodi', 'noon', 'noth', 'nowher', 'onc', 'onli', 'otherwis', 'ourselv', 'perhap', 'pleas', 'seriou', 'sever', 'sinc', 'sincer', 'sixti', 'someon', 'someth', 'sometim', 'somewher', 'themselv', 'thenc', 'thereaft', 'therebi', 'therefor', 'thi', 'thu', 'togeth', 'twelv', 'twenti', 'veri', 'wa', 'whatev', 'whenc', 'whenev', 'wherea', 'whereaft', 'wherebi', 'wherev', 'whi', 'yourselv'] not in stop_words.\n",
            "  'stop_words.' % sorted(inconsistent))\n"
          ],
          "name": "stderr"
        },
        {
          "output_type": "stream",
          "text": [
            "When asked how safe the Pfizer-BioNTech vaccine is for Malaysian use, Dr Kalaiarasu said he would be taking the vaccine himself and asserted that regulatory agencies around the world, including Malaysia’s National Regulatory Pharmaceutical Agency (NPRA), have deemed it safe.  KUALA LUMPUR, Jan 20 — The chairman of the Vaccine Selection Technical Working Group (TWG) today said Malaysians should not avoid being vaccinated against Covid-19 based solely on reported deaths among elderly recipients in Norway. Dr Kalaiarasu, who is also the director of the Institute for Clinical Research Malaysia, additionally pointed out that adverse reactions to the Covid-19 vaccine are occurring at a much lower rate than death caused by the disease. On January 6, the US Centres for Disease Control and Prevention (CDC) reported that allergic reactions to the Pfizer-BioNTech vaccine are occurring at a rate of 11.1 per one million vaccinations. Pfizer conducted its trials on over 40,000 people with ages ranging from 16 years to 80 years, and we can accept the effectiveness of the vaccine, because it has a 95 per cent efficacy.\n"
          ],
          "name": "stdout"
        }
      ]
    },
    {
      "cell_type": "code",
      "metadata": {
        "id": "-WU5O_0PQkDg"
      },
      "source": [
        "bleu_scores=[]"
      ],
      "execution_count": 17,
      "outputs": []
    },
    {
      "cell_type": "code",
      "metadata": {
        "colab": {
          "base_uri": "https://localhost:8080/"
        },
        "id": "4u4A1m0rGFQz",
        "outputId": "9cd326d0-c3ef-4bdc-e850-533f3d41dc81"
      },
      "source": [
        "#Quilbot -> https://quillbot.com/summarize\r\n",
        "\r\n",
        "#summary length 3\r\n",
        "r = 'Covid-19 vaccine panel chief urges Malaysians not to panic over Norwegian deaths before links proven. It was previously reported 23 chronically ill people, all aged 75 and above, died after they received their vaccination shots. Dr Kalaiarasu Pearisamy said there was still no demonstrable link that the deaths were a direct result of the Pfizer-BioNTech Covid- 19 vaccine.'\r\n",
        "\r\n",
        "print('\\nIndividual n-grams for length-3.\\n--------------------------------\\n1-gram: %f' % sentence_bleu(r, s, weights=(1, 0, 0, 0)))\r\n",
        "print('2-gram: %f' % sentence_bleu(r, s, weights=(0, 1, 0, 0)))\r\n",
        "print('3-gram: %f' % sentence_bleu(r, s, weights=(0, 0, 1, 0)))\r\n",
        "print('4-gram: %f' % sentence_bleu(r, s, weights=(0, 0, 0, 1)))\r\n",
        "\r\n",
        "#The weights for the BLEU-4 are 1/4 (25%) or 0.25 for each of the 1-gram, 2-gram, 3-gram and 4-gram scores\r\n",
        "score = sentence_bleu(r, s, weights=(0.25, 0.25, 0.25, 0.25))\r\n",
        "print('BLEU Scores: ', score)\r\n",
        "bleu_scores.append(score)"
      ],
      "execution_count": 18,
      "outputs": [
        {
          "output_type": "stream",
          "text": [
            "/usr/local/lib/python3.6/dist-packages/nltk/translate/bleu_score.py:490: UserWarning: \n",
            "Corpus/Sentence contains 0 counts of 2-gram overlaps.\n",
            "BLEU scores might be undesirable; use SmoothingFunction().\n",
            "  warnings.warn(_msg)\n"
          ],
          "name": "stderr"
        },
        {
          "output_type": "stream",
          "text": [
            "\n",
            "Individual n-grams for length-3.\n",
            "--------------------------------\n",
            "1-gram: 0.035714\n",
            "2-gram: 1.000000\n",
            "3-gram: 1.000000\n",
            "4-gram: 1.000000\n",
            "BLEU Scores:  0.4347208719449914\n"
          ],
          "name": "stdout"
        }
      ]
    },
    {
      "cell_type": "code",
      "metadata": {
        "id": "ZIfccE2awefG",
        "colab": {
          "base_uri": "https://localhost:8080/"
        },
        "outputId": "6f8c4e17-12d5-4396-9631-39737c9fc802"
      },
      "source": [
        "#summary length 5\n",
        "r = 'Covid-19 vaccine panel chief urges Malaysians not to panic over Norwegian deaths before links proven. It was previously reported 23 chronically ill people, all aged 75 and above, died after they received their vaccination shots. Dr Kalaiarasu Pearisamy said there was still no demonstrable link that the deaths were a direct result of the Pfizer-BioNTech Covid- 19 vaccine. Malaysia is to receive a total of 25 million doses of the vaccine by the end of this year. The death rate in Malaysia is four in every 1,000 infections.'\n",
        "\n",
        "print('\\nIndividual n-grams for length-5.\\n---------------------------------\\n1-gram: %f' % sentence_bleu(r, s, weights=(1, 0, 0, 0)))\n",
        "print('2-gram: %f' % sentence_bleu(r, s, weights=(0, 1, 0, 0)))\n",
        "print('3-gram: %f' % sentence_bleu(r, s, weights=(0, 0, 1, 0)))\n",
        "print('4-gram: %f' % sentence_bleu(r, s, weights=(0, 0, 0, 1)))\n",
        "\n",
        "#The weights for the BLEU-4 are 1/4 (25%) or 0.25 for each of the 1-gram, 2-gram, 3-gram and 4-gram scores\n",
        "score = sentence_bleu(r, s, weights=(0.25, 0.25, 0.25, 0.25))\n",
        "print('BLEU Scores: ', score)\n",
        "bleu_scores.append(score)"
      ],
      "execution_count": 19,
      "outputs": [
        {
          "output_type": "stream",
          "text": [
            "/usr/local/lib/python3.6/dist-packages/nltk/translate/bleu_score.py:490: UserWarning: \n",
            "Corpus/Sentence contains 0 counts of 2-gram overlaps.\n",
            "BLEU scores might be undesirable; use SmoothingFunction().\n",
            "  warnings.warn(_msg)\n"
          ],
          "name": "stderr"
        },
        {
          "output_type": "stream",
          "text": [
            "\n",
            "Individual n-grams for length-5.\n",
            "---------------------------------\n",
            "1-gram: 0.036607\n",
            "2-gram: 1.000000\n",
            "3-gram: 1.000000\n",
            "4-gram: 1.000000\n",
            "BLEU Scores:  0.43741277066697004\n"
          ],
          "name": "stdout"
        }
      ]
    },
    {
      "cell_type": "code",
      "metadata": {
        "colab": {
          "base_uri": "https://localhost:8080/"
        },
        "id": "YxyjjSm0HiVe",
        "outputId": "3c7c3a27-154a-4fc6-c493-c8073cae7fd0"
      },
      "source": [
        "#summary length 8\r\n",
        "r = \"Covid-19 vaccine panel chief urges Malaysians not to panic over Norwegian deaths before links proven. It was previously reported 23 chronically ill people, all aged 75 and above, died after they received their vaccination shots. Dr Kalaiarasu Pearisamy said there was still no demonstrable link that the deaths were a direct result of the Pfizer-BioNTech Covid- 19 vaccine. Malaysia is to receive a total of 25 million doses of the vaccine by the end of this year. The death rate in Malaysia is four in every 1,000 infections of the disease. The Pfizer vaccine has a 95 per cent efficacy rate, according to the Vaccine Selection Technical Working Group (TWG) The TWG — which includes experts in immunology, infectious diseases and statistics — also found the results of Pfizer's trials to be satisfactory, he said. The CDC reported allergic reactions to the vaccine are occurring at a rate of 11.1 per one million vaccinations in the U.S. As of yesterday, the deaths from the vaccine in Malaysia are four in each 1,100 infections.\"\r\n",
        "\r\n",
        "print('\\nIndividual n-grams for length-8.\\n---------------------------------\\n1-gram: %f' % sentence_bleu(r, s, weights=(1, 0, 0, 0)))\r\n",
        "print('2-gram: %f' % sentence_bleu(r, s, weights=(0, 1, 0, 0)))\r\n",
        "print('3-gram: %f' % sentence_bleu(r, s, weights=(0, 0, 1, 0)))\r\n",
        "print('4-gram: %f' % sentence_bleu(r, s, weights=(0, 0, 0, 1)))\r\n",
        "\r\n",
        "#The weights for the BLEU-4 are 1/4 (25%) or 0.25 for each of the 1-gram, 2-gram, 3-gram and 4-gram scores\r\n",
        "score = sentence_bleu(r, s, weights=(0.25, 0.25, 0.25, 0.25))\r\n",
        "print('BLEU Scores: ', score)\r\n",
        "bleu_scores.append(score)"
      ],
      "execution_count": 20,
      "outputs": [
        {
          "output_type": "stream",
          "text": [
            "/usr/local/lib/python3.6/dist-packages/nltk/translate/bleu_score.py:490: UserWarning: \n",
            "Corpus/Sentence contains 0 counts of 2-gram overlaps.\n",
            "BLEU scores might be undesirable; use SmoothingFunction().\n",
            "  warnings.warn(_msg)\n"
          ],
          "name": "stderr"
        },
        {
          "output_type": "stream",
          "text": [
            "\n",
            "Individual n-grams for length-8.\n",
            "---------------------------------\n",
            "1-gram: 0.044643\n",
            "2-gram: 1.000000\n",
            "3-gram: 1.000000\n",
            "4-gram: 1.000000\n",
            "BLEU Scores:  0.45966135761245924\n"
          ],
          "name": "stdout"
        }
      ]
    },
    {
      "cell_type": "code",
      "metadata": {
        "id": "1VXbyEXQO1Ze"
      },
      "source": [
        "f1_scores_one=[] #f1 scores of rougue 1\r\n",
        "f1_scores_two=[]\r\n",
        "f1_scores_l=[]"
      ],
      "execution_count": 21,
      "outputs": []
    },
    {
      "cell_type": "code",
      "metadata": {
        "colab": {
          "base_uri": "https://localhost:8080/"
        },
        "id": "TzXVNxs8JWbd",
        "outputId": "200339d8-23e1-4ed1-fdbf-ab75aa924ea1"
      },
      "source": [
        "#summary length 3\r\n",
        "r = 'Covid-19 vaccine panel chief urges Malaysians not to panic over Norwegian deaths before links proven. It was previously reported 23 chronically ill people, all aged 75 and above, died after they received their vaccination shots. Dr Kalaiarasu Pearisamy said there was still no demonstrable link that the deaths were a direct result of the Pfizer-BioNTech Covid- 19 vaccine.'\r\n",
        "rouge = Rouge()\r\n",
        "scores = rouge.get_scores(s, r)\r\n",
        "scores_list=[]\r\n",
        "print('Rouge Scores for length-3')\r\n",
        "for g in scores:\r\n",
        "  for keys,values in g.items():\r\n",
        "    print('')\r\n",
        "    print(keys)\r\n",
        "    print('----------------------')\r\n",
        "    for x,y in values.items():\r\n",
        "      print(x,y)\r\n",
        "      scores_list.append(y)\r\n",
        "f1_scores_one.append(scores_list[0])\r\n",
        "f1_scores_two.append(scores_list[3])\r\n",
        "f1_scores_l.append(scores_list[6])"
      ],
      "execution_count": 22,
      "outputs": [
        {
          "output_type": "stream",
          "text": [
            "Rouge Scores for length-3\n",
            "\n",
            "rouge-1\n",
            "----------------------\n",
            "f 0.16101694544527442\n",
            "p 0.10674157303370786\n",
            "r 0.3275862068965517\n",
            "\n",
            "rouge-2\n",
            "----------------------\n",
            "f 0.03418803050295898\n",
            "p 0.022598870056497175\n",
            "r 0.07017543859649122\n",
            "\n",
            "rouge-l\n",
            "----------------------\n",
            "f 0.15789473277340732\n",
            "p 0.11029411764705882\n",
            "r 0.2777777777777778\n"
          ],
          "name": "stdout"
        }
      ]
    },
    {
      "cell_type": "code",
      "metadata": {
        "colab": {
          "base_uri": "https://localhost:8080/"
        },
        "id": "xIPMH6D3I101",
        "outputId": "e1bbc5d0-84a6-4b5e-801c-29b6c1128467"
      },
      "source": [
        "#summary length 5\r\n",
        "r = 'Covid-19 vaccine panel chief urges Malaysians not to panic over Norwegian deaths before links proven. It was previously reported 23 chronically ill people, all aged 75 and above, died after they received their vaccination shots. Dr Kalaiarasu Pearisamy said there was still no demonstrable link that the deaths were a direct result of the Pfizer-BioNTech Covid- 19 vaccine. Malaysia is to receive a total of 25 million doses of the vaccine by the end of this year. The death rate in Malaysia is four in every 1,000 infections.'\r\n",
        "rouge = Rouge()\r\n",
        "scores = rouge.get_scores(s, r)\r\n",
        "scores_list=[]\r\n",
        "print('Rouge Scores for length-5')\r\n",
        "for g in scores:\r\n",
        "  for keys,values in g.items():\r\n",
        "    print('')\r\n",
        "    print(keys)\r\n",
        "    print('----------------------')\r\n",
        "    for x,y in values.items():\r\n",
        "      print(x,y)\r\n",
        "      scores_list.append(y)\r\n",
        "f1_scores_one.append(scores_list[0])\r\n",
        "f1_scores_two.append(scores_list[3])\r\n",
        "f1_scores_l.append(scores_list[6])"
      ],
      "execution_count": 23,
      "outputs": [
        {
          "output_type": "stream",
          "text": [
            "Rouge Scores for length-5\n",
            "\n",
            "rouge-1\n",
            "----------------------\n",
            "f 0.2631578903092318\n",
            "p 0.19662921348314608\n",
            "r 0.3977272727272727\n",
            "\n",
            "rouge-2\n",
            "----------------------\n",
            "f 0.05303029861139844\n",
            "p 0.03954802259887006\n",
            "r 0.08045977011494253\n",
            "\n",
            "rouge-l\n",
            "----------------------\n",
            "f 0.20095693325335967\n",
            "p 0.15441176470588236\n",
            "r 0.2876712328767123\n"
          ],
          "name": "stdout"
        }
      ]
    },
    {
      "cell_type": "code",
      "metadata": {
        "colab": {
          "base_uri": "https://localhost:8080/"
        },
        "id": "jaovohC3JezP",
        "outputId": "73f133f7-91f2-4f64-cff9-a46b61b8e358"
      },
      "source": [
        "#summary length 8\r\n",
        "r = \"Covid-19 vaccine panel chief urges Malaysians not to panic over Norwegian deaths before links proven. It was previously reported 23 chronically ill people, all aged 75 and above, died after they received their vaccination shots. Dr Kalaiarasu Pearisamy said there was still no demonstrable link that the deaths were a direct result of the Pfizer-BioNTech Covid- 19 vaccine. Malaysia is to receive a total of 25 million doses of the vaccine by the end of this year. The death rate in Malaysia is four in every 1,000 infections of the disease. The Pfizer vaccine has a 95 per cent efficacy rate, according to the Vaccine Selection Technical Working Group (TWG) The TWG — which includes experts in immunology, infectious diseases and statistics — also found the results of Pfizer's trials to be satisfactory, he said. The CDC reported allergic reactions to the vaccine are occurring at a rate of 11.1 per one million vaccinations in the U.S. As of yesterday, the deaths from the vaccine in Malaysia are four in each 1,100 infections.\"\r\n",
        "rouge = Rouge()\r\n",
        "scores = rouge.get_scores(s, r)\r\n",
        "scores_list=[]\r\n",
        "print('Rouge Scores for length-8')\r\n",
        "for g in scores:\r\n",
        "  for keys,values in g.items():\r\n",
        "    print('')\r\n",
        "    print(keys)\r\n",
        "    print('----------------------')\r\n",
        "    for x,y in values.items():\r\n",
        "      print(x,y)\r\n",
        "      scores_list.append(y)\r\n",
        "f1_scores_one.append(scores_list[0])\r\n",
        "f1_scores_two.append(scores_list[3])\r\n",
        "f1_scores_l.append(scores_list[6])"
      ],
      "execution_count": 24,
      "outputs": [
        {
          "output_type": "stream",
          "text": [
            "Rouge Scores for length-8\n",
            "\n",
            "rouge-1\n",
            "----------------------\n",
            "f 0.4475920629890297\n",
            "p 0.4438202247191011\n",
            "r 0.4514285714285714\n",
            "\n",
            "rouge-2\n",
            "----------------------\n",
            "f 0.20512820012857053\n",
            "p 0.2033898305084746\n",
            "r 0.20689655172413793\n",
            "\n",
            "rouge-l\n",
            "----------------------\n",
            "f 0.3565891423015444\n",
            "p 0.3382352941176471\n",
            "r 0.3770491803278688\n"
          ],
          "name": "stdout"
        }
      ]
    },
    {
      "cell_type": "code",
      "metadata": {
        "colab": {
          "base_uri": "https://localhost:8080/"
        },
        "id": "o05mt0JYJ3J1",
        "outputId": "aca6edaf-086f-41df-e8c2-ddc991ec312c"
      },
      "source": [
        "f1_scores_one"
      ],
      "execution_count": 25,
      "outputs": [
        {
          "output_type": "execute_result",
          "data": {
            "text/plain": [
              "[0.16101694544527442, 0.2631578903092318, 0.4475920629890297]"
            ]
          },
          "metadata": {
            "tags": []
          },
          "execution_count": 25
        }
      ]
    },
    {
      "cell_type": "code",
      "metadata": {
        "id": "6Gdj_z1zP8Ji"
      },
      "source": [
        "f1_scores_names = ['Summary Length 3','Summary Length 5','Summary Length 8']"
      ],
      "execution_count": 26,
      "outputs": []
    },
    {
      "cell_type": "code",
      "metadata": {
        "colab": {
          "base_uri": "https://localhost:8080/",
          "height": 318
        },
        "id": "XFb0rDd2QI5D",
        "outputId": "a9445d8a-b150-4237-d638-9524f8212e63"
      },
      "source": [
        "sns.barplot(f1_scores_names,f1_scores_one);"
      ],
      "execution_count": 27,
      "outputs": [
        {
          "output_type": "stream",
          "text": [
            "/usr/local/lib/python3.6/dist-packages/seaborn/_decorators.py:43: FutureWarning: Pass the following variables as keyword args: x, y. From version 0.12, the only valid positional argument will be `data`, and passing other arguments without an explicit keyword will result in an error or misinterpretation.\n",
            "  FutureWarning\n"
          ],
          "name": "stderr"
        },
        {
          "output_type": "display_data",
          "data": {
            "image/png": "[encoded data removed]",
            "text/plain": [
              "<Figure size 432x288 with 1 Axes>"
            ]
          },
          "metadata": {
            "tags": [],
            "needs_background": "light"
          }
        }
      ]
    },
    {
      "cell_type": "code",
      "metadata": {
        "colab": {
          "base_uri": "https://localhost:8080/",
          "height": 335
        },
        "id": "AA5aULo8QNc8",
        "outputId": "9bc4de19-43a9-4ad6-97aa-702a3b3ebd20"
      },
      "source": [
        "sns.barplot(f1_scores_names,f1_scores_two)"
      ],
      "execution_count": 28,
      "outputs": [
        {
          "output_type": "stream",
          "text": [
            "/usr/local/lib/python3.6/dist-packages/seaborn/_decorators.py:43: FutureWarning: Pass the following variables as keyword args: x, y. From version 0.12, the only valid positional argument will be `data`, and passing other arguments without an explicit keyword will result in an error or misinterpretation.\n",
            "  FutureWarning\n"
          ],
          "name": "stderr"
        },
        {
          "output_type": "execute_result",
          "data": {
            "text/plain": [
              "<matplotlib.axes._subplots.AxesSubplot at 0x7f4ab8fdb710>"
            ]
          },
          "metadata": {
            "tags": []
          },
          "execution_count": 28
        },
        {
          "output_type": "display_data",
          "data": {
            "image/png": "[encoded data removed]",
            "text/plain": [
              "<Figure size 432x288 with 1 Axes>"
            ]
          },
          "metadata": {
            "tags": [],
            "needs_background": "light"
          }
        }
      ]
    },
    {
      "cell_type": "code",
      "metadata": {
        "colab": {
          "base_uri": "https://localhost:8080/",
          "height": 335
        },
        "id": "mzRanVp1QQTo",
        "outputId": "bd2d0055-81ed-47a8-8f7d-f8765d34d1eb"
      },
      "source": [
        "sns.barplot(f1_scores_names,f1_scores_l)"
      ],
      "execution_count": 29,
      "outputs": [
        {
          "output_type": "stream",
          "text": [
            "/usr/local/lib/python3.6/dist-packages/seaborn/_decorators.py:43: FutureWarning: Pass the following variables as keyword args: x, y. From version 0.12, the only valid positional argument will be `data`, and passing other arguments without an explicit keyword will result in an error or misinterpretation.\n",
            "  FutureWarning\n"
          ],
          "name": "stderr"
        },
        {
          "output_type": "execute_result",
          "data": {
            "text/plain": [
              "<matplotlib.axes._subplots.AxesSubplot at 0x7f4ab8f9bfd0>"
            ]
          },
          "metadata": {
            "tags": []
          },
          "execution_count": 29
        },
        {
          "output_type": "display_data",
          "data": {
            "image/png": "[encoded data removed]",
            "text/plain": [
              "<Figure size 432x288 with 1 Axes>"
            ]
          },
          "metadata": {
            "tags": [],
            "needs_background": "light"
          }
        }
      ]
    },
    {
      "cell_type": "code",
      "metadata": {
        "colab": {
          "base_uri": "https://localhost:8080/"
        },
        "id": "dd9MuCAIQx8d",
        "outputId": "bfb4336a-7412-4719-e9dc-999b363a7954"
      },
      "source": [
        "bleu_scores"
      ],
      "execution_count": 30,
      "outputs": [
        {
          "output_type": "execute_result",
          "data": {
            "text/plain": [
              "[0.4347208719449914, 0.43741277066697004, 0.45966135761245924]"
            ]
          },
          "metadata": {
            "tags": []
          },
          "execution_count": 30
        }
      ]
    },
    {
      "cell_type": "code",
      "metadata": {
        "colab": {
          "base_uri": "https://localhost:8080/",
          "height": 265
        },
        "id": "khQ63D66Z1Qe",
        "outputId": "4dd8b4a8-3afe-4e0b-dc4d-15f024c23238"
      },
      "source": [
        "plt.plot(bleu_scores)\r\n",
        "plt.ylabel('Bleu Scores')\r\n",
        "plt.show()"
      ],
      "execution_count": 31,
      "outputs": [
        {
          "output_type": "display_data",
          "data": {
            "image/png": "[encoded data removed]",
            "text/plain": [
              "<Figure size 432x288 with 1 Axes>"
            ]
          },
          "metadata": {
            "tags": [],
            "needs_background": "light"
          }
        }
      ]
    }
  ]
}